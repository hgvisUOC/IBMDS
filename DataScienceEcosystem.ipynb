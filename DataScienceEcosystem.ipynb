{
  "nbformat": 4,
  "nbformat_minor": 0,
  "metadata": {
    "colab": {
      "provenance": []
    },
    "kernelspec": {
      "name": "python3",
      "display_name": "Python 3"
    },
    "language_info": {
      "name": "python"
    }
  },
  "cells": [
    {
      "cell_type": "markdown",
      "source": [
        "# Data Science Tools and Ecosystem"
      ],
      "metadata": {
        "id": "_jtC2qHx-5Yh"
      }
    },
    {
      "cell_type": "markdown",
      "source": [
        "In this notebook, Data Science Tools and Ecosystem are summarized."
      ],
      "metadata": {
        "id": "OSUCVejnAAFe"
      }
    },
    {
      "cell_type": "markdown",
      "source": [
        "Some of the popular languages that Data Scientists use are:\n",
        "\n",
        "1. Python\n",
        "2. R\n",
        "3. Julia\n"
      ],
      "metadata": {
        "id": "DXxxaNkDGuB3"
      }
    },
    {
      "cell_type": "markdown",
      "source": [
        "Some of the commonly used libraries used by Data Scientists include:\n",
        "\n",
        "1. NumPy\n",
        "2. Pandas\n",
        "3. Matplotlib\n"
      ],
      "metadata": {
        "id": "5bilTGyGHNlT"
      }
    },
    {
      "cell_type": "markdown",
      "source": [
        "| Data Science Tools |\n",
        "|--------------------|\n",
        "| Jupyter Notebook |\n",
        "| RStudio |\n",
        "| Apache Zeppelin |\n"
      ],
      "metadata": {
        "id": "mwYGIOBgHuOm"
      }
    },
    {
      "cell_type": "markdown",
      "source": [
        "### Below are a few examples of evaluating arithmetic expressions in Python."
      ],
      "metadata": {
        "id": "x7J4lzUhIFRZ"
      }
    },
    {
      "cell_type": "code",
      "source": [
        "# This is a simple arithmetic expression to multiply then add integers.\n",
        "print((3 * 4) + 5)\n"
      ],
      "metadata": {
        "colab": {
          "base_uri": "https://localhost:8080/"
        },
        "id": "dFjNuRwFJQ1j",
        "outputId": "cb13e909-0be9-46e4-a1ce-846fb46d6a63"
      },
      "execution_count": 2,
      "outputs": [
        {
          "output_type": "stream",
          "name": "stdout",
          "text": [
            "17\n"
          ]
        }
      ]
    },
    {
      "cell_type": "code",
      "source": [
        "# This will convert 200 minutes to hours by diving by 60.\n",
        "minutes = 200\n",
        "hours = minutes / 60\n",
        "print(hours)\n"
      ],
      "metadata": {
        "colab": {
          "base_uri": "https://localhost:8080/"
        },
        "id": "_YC2WiYBJgaD",
        "outputId": "7c3dbeb9-a615-4063-9e34-9832f5aa5378"
      },
      "execution_count": 3,
      "outputs": [
        {
          "output_type": "stream",
          "name": "stdout",
          "text": [
            "3.3333333333333335\n"
          ]
        }
      ]
    },
    {
      "cell_type": "markdown",
      "source": [
        "__Objectives__:\n",
        "* List popular languages used by Data Scientists.\n",
        "* List commonly used libraries used by Data Scientists.\n",
        "* Provide examples of evaluating arithmetic expressions in Python.\n",
        "* Demonstrate how to insert a markdown cell.\n"
      ],
      "metadata": {
        "id": "EuAVZpc-LUJN"
      }
    },
    {
      "cell_type": "markdown",
      "source": [
        "## Author\n",
        "Hetti Gamage Vishmal"
      ],
      "metadata": {
        "id": "RgDkM3RENhIp"
      }
    }
  ]
}